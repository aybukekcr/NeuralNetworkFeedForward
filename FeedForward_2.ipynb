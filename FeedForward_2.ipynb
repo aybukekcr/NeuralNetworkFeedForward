{
  "nbformat": 4,
  "nbformat_minor": 0,
  "metadata": {
    "colab": {
      "provenance": [],
      "authorship_tag": "ABX9TyPPf7yqjk/vePSKC7hto7xM",
      "include_colab_link": true
    },
    "kernelspec": {
      "name": "python3",
      "display_name": "Python 3"
    },
    "language_info": {
      "name": "python"
    }
  },
  "cells": [
    {
      "cell_type": "markdown",
      "metadata": {
        "id": "view-in-github",
        "colab_type": "text"
      },
      "source": [
        "<a href=\"https://colab.research.google.com/github/aybukekcr/NeuralNetworkFeedForward/blob/main/FeedForward_2.ipynb\" target=\"_parent\"><img src=\"https://colab.research.google.com/assets/colab-badge.svg\" alt=\"Open In Colab\"/></a>"
      ]
    },
    {
      "cell_type": "code",
      "execution_count": 1,
      "metadata": {
        "colab": {
          "base_uri": "https://localhost:8080/"
        },
        "id": "nszTnhUfecUr",
        "outputId": "856cb5cc-ae93-451d-beb5-14f7123809a7"
      },
      "outputs": [
        {
          "output_type": "stream",
          "name": "stdout",
          "text": [
            "tensor([[0.4995],\n",
            "        [0.4992]])\n"
          ]
        }
      ],
      "source": [
        "#soru 4.2\n",
        "import torch\n",
        "import torch.nn as nn\n",
        "\n",
        "torch.manual_seed(190401035)\n",
        "\n",
        "def tanh_activation(x):\n",
        "    return (torch.exp(x) - torch.exp(-x)) / (torch.exp(x) + torch.exp(-x))\n",
        "\n",
        "def sigmoid_activation(x):\n",
        "    return 1 / (1 + torch.exp(-x))\n",
        "\n",
        "X = torch.tensor([[1, 2, 3], [4, 5, 6]], dtype=torch.float32)\n",
        "\n",
        "input_size = X.shape[1]\n",
        "hidden_size = 50\n",
        "output_size = 1\n",
        "\n",
        "W1 = torch.randn(input_size, hidden_size) * 0.01\n",
        "b1 = torch.zeros(hidden_size)\n",
        "\n",
        "W2 = torch.randn(hidden_size, output_size) * 0.01\n",
        "b2 = torch.zeros(output_size)\n",
        "\n",
        "hidden_layer = tanh_activation(torch.matmul(X, W1) + b1)\n",
        "output_layer = sigmoid_activation(torch.matmul(hidden_layer, W2) + b2)\n",
        "\n",
        "print(output_layer)\n"
      ]
    }
  ]
}